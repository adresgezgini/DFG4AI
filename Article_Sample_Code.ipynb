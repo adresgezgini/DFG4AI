{
  "nbformat": 4,
  "nbformat_minor": 0,
  "metadata": {
    "colab": {
      "name": "Makale Sample Kod.ipynb",
      "provenance": [],
      "collapsed_sections": []
    },
    "kernelspec": {
      "name": "python3",
      "display_name": "Python 3"
    }
  },
  "cells": [
    {
      "cell_type": "code",
      "metadata": {
        "id": "VKLm0UBjwmAk"
      },
      "source": [
        "\n",
        "from google.colab import drive\n",
        "drive.mount('/content/drive')"
      ],
      "execution_count": null,
      "outputs": []
    },
    {
      "cell_type": "code",
      "metadata": {
        "id": "BRiFbSIMVPCh"
      },
      "source": [
        "!pip install scikit-plot\n"
      ],
      "execution_count": null,
      "outputs": []
    },
    {
      "cell_type": "code",
      "metadata": {
        "id": "ZIRay2BfM8He"
      },
      "source": [
        "import pandas as pd\r\n",
        "import numpy as np\r\n",
        "import matplotlib.pyplot as plt\r\n",
        "import seaborn as sns\r\n",
        "import multiprocessing\r\n",
        "from sklearn.metrics import accuracy_score\r\n",
        "import nltk\r\n",
        "from gensim.models.doc2vec import TaggedDocument\r\n",
        "from gensim.models import Doc2Vec,doc2vec\r\n",
        "from tqdm import tqdm\r\n",
        "from sklearn.svm import SVC\r\n",
        "from sklearn.linear_model import LogisticRegression\r\n",
        "from sklearn.metrics import accuracy_score, f1_score, plot_confusion_matrix, confusion_matrix\r\n",
        "import scikitplot as skplt\r\n",
        "import umap\r\n",
        "from sklearn import metrics,utils\r\n",
        "import re\r\n",
        "%matplotlib inline"
      ],
      "execution_count": null,
      "outputs": []
    },
    {
      "cell_type": "code",
      "metadata": {
        "id": "lC-HAsZRJhlU"
      },
      "source": [
        "base_path = '/content/************/'\n",
        "train = pd.read_csv('/content/******************/train.csv')\n",
        "train = train[['Articles','Yazar']]\n",
        "train = train[pd.notnull(train['Articles'])]\n",
        "\n",
        "test = pd.read_csv('/content/******************/test.csv')\n",
        "test = test[['Articles','Yazar']]\n",
        "test = test[pd.notnull(test['Articles'])]\n",
        "\n"
      ],
      "execution_count": null,
      "outputs": []
    },
    {
      "cell_type": "code",
      "metadata": {
        "id": "5exJ5oR0jM9c"
      },
      "source": [
        "def cleanText(input_sentence):\r\n",
        " \r\n",
        "  tmp= [word.replace('I','ı') for word in input_sentence.split(' ')]\r\n",
        "  tmp= [word.lower() for word in tmp]\r\n",
        "  tmp= [word.replace('i̇','i') for word in tmp]\r\n",
        "  tmp = [re.sub('[^A-Za-z0-9ğüşıçöiâî]+', ' ', word) for word in tmp]\r\n",
        "  tmp = [word.strip(' ') for word in tmp]\r\n",
        "  tmp1 =' '.join(tmp)\r\n",
        "\r\n",
        "  return tmp1"
      ],
      "execution_count": null,
      "outputs": []
    },
    {
      "cell_type": "code",
      "metadata": {
        "id": "tUF8I0EIjtto"
      },
      "source": [
        "train['Articles']=train['Articles'].apply(cleanText)\r\n",
        "test['Articles']=test['Articles'].apply(cleanText)"
      ],
      "execution_count": null,
      "outputs": []
    },
    {
      "cell_type": "code",
      "metadata": {
        "colab": {
          "base_uri": "https://localhost:8080/",
          "height": 339
        },
        "id": "jaQ17Y96upRE",
        "outputId": "481814f7-2311-4387-b0ba-122337fc584a"
      },
      "source": [
        "cnt_pro = train['Yazar'].value_counts()\r\n",
        "\r\n",
        "plt.figure(figsize=(12,4))\r\n",
        "sns.barplot(cnt_pro.index, cnt_pro.values, alpha=0.8)\r\n",
        "plt.ylabel('Number of Articles', fontsize=12)\r\n",
        "plt.xlabel('AuthorID', fontsize=12)\r\n",
        "plt.xticks(rotation=90)\r\n",
        "plt.show();"
      ],
      "execution_count": null,
      "outputs": [
        {
          "output_type": "stream",
          "text": [
            "/usr/local/lib/python3.6/dist-packages/seaborn/_decorators.py:43: FutureWarning: Pass the following variables as keyword args: x, y. From version 0.12, the only valid positional argument will be `data`, and passing other arguments without an explicit keyword will result in an error or misinterpretation.\n",
            "  FutureWarning\n"
          ],
          "name": "stderr"
        },
        {
          "output_type": "display_data",
          "data": {
            "image/png": "[encoded data removed]",
            "text/plain": [
              "<Figure size 864x288 with 1 Axes>"
            ]
          },
          "metadata": {
            "tags": [],
            "needs_background": "light"
          }
        }
      ]
    },
    {
      "cell_type": "code",
      "metadata": {
        "colab": {
          "base_uri": "https://localhost:8080/"
        },
        "id": "eXigxY5I9Zs9",
        "outputId": "084f9189-1f90-4789-9ac7-45095827f9b7"
      },
      "source": [
        "\n",
        "nltk.download('punkt')\n",
        "from nltk.corpus import stopwords\n",
        "def tokenize_text(text):\n",
        "    tokens = []\n",
        "    for sent in nltk.sent_tokenize(text):\n",
        "        for word in nltk.word_tokenize(sent):\n",
        "            if len(word) < 2:\n",
        "                continue\n",
        "            tokens.append(word.lower())\n",
        "    return tokens"
      ],
      "execution_count": null,
      "outputs": [
        {
          "output_type": "stream",
          "text": [
            "[nltk_data] Downloading package punkt to /root/nltk_data...\n",
            "[nltk_data]   Unzipping tokenizers/punkt.zip.\n"
          ],
          "name": "stdout"
        }
      ]
    },
    {
      "cell_type": "code",
      "metadata": {
        "id": "j0DXos50RaY-"
      },
      "source": [
        "train_tagged = train.apply(lambda r: TaggedDocument(words=tokenize_text(r['Articles']), tags=[r.Yazar]), axis=1)"
      ],
      "execution_count": null,
      "outputs": []
    },
    {
      "cell_type": "code",
      "metadata": {
        "id": "7wOEK0Um9n7h"
      },
      "source": [
        "test_tagged = test.apply(lambda r: TaggedDocument(words=tokenize_text(r['Articles']), tags=[r.Yazar]), axis=1)"
      ],
      "execution_count": null,
      "outputs": []
    },
    {
      "cell_type": "code",
      "metadata": {
        "id": "jSatKtDWPpSk"
      },
      "source": [
        "\n",
        "tr_tags = [i.tags[0] for i in train_tagged]\n",
        "te_tags = [i.tags[0] for i in test_tagged] "
      ],
      "execution_count": null,
      "outputs": []
    },
    {
      "cell_type": "markdown",
      "metadata": {
        "id": "9Ep7ODsrmFpp"
      },
      "source": [
        "Logistic Regression Results"
      ]
    },
    {
      "cell_type": "code",
      "metadata": {
        "id": "-7xpMRsfhnM7"
      },
      "source": [
        "def LogReg_Results(train_embeddings,test_embeddings):\r\n",
        "  logreg = LogisticRegression(n_jobs=cores, C = 10000, max_iter=10000, tol = 1e-5)\r\n",
        "  logreg.fit(train_embeddings, tr_tags)    \r\n",
        "  te_tags_predicted = logreg.predict(test_embeddings)\r\n",
        "  tr_tags_predicted = logreg.predict(train_embeddings)\r\n",
        "\r\n",
        "  print('Train accuracy %s' % accuracy_score(tr_tags, tr_tags_predicted))\r\n",
        "  print('Testing accuracy %s' % accuracy_score(te_tags, te_tags_predicted))\r\n",
        "  print('Testing Log-Reg F1 weighted score: {}'.format(f1_score(te_tags, te_tags_predicted, average='weighted')))\r\n",
        "  print('Testing Log-Reg F1 macro score: {}'.format(f1_score(te_tags, te_tags_predicted, average='macro')))\r\n",
        "  print('Testing Log-Reg F1 macro score class-based:: {}'.format(f1_score(te_tags, te_tags_predicted, average=None)))"
      ],
      "execution_count": null,
      "outputs": []
    },
    {
      "cell_type": "markdown",
      "metadata": {
        "id": "m4d0Q10alzA7"
      },
      "source": [
        "SVC Results"
      ]
    },
    {
      "cell_type": "code",
      "metadata": {
        "id": "2T39N-4ygys_"
      },
      "source": [
        "def SVC_Results(train_embeddings,test_embeddings):\r\n",
        "  clf = SVC(kernel='linear', C=1).fit(train_embeddings, tr_tags)\r\n",
        "  clf_te_tags_predicted = clf.predict(test_embeddings)    \r\n",
        "  clf_tr_tags_predicted = clf.predict(train_embeddings)\r\n",
        "  \r\n",
        "  print('C-SVC Train Score %s\\n'%clf.score(train_embeddings, tr_tags))\r\n",
        "  print('C-SVC Test Score %s\\n'%clf.score(test_embeddings, te_tags))\r\n",
        "  print('Testing C-SVC F1 weighted score: {}'.format(f1_score(te_tags, clf_te_tags_predicted, average='weighted')))\r\n",
        "  print('Testing C-SVC F1 macro score: {}'.format(f1_score(te_tags, clf_te_tags_predicted, average='macro')))\r\n",
        "  print('Testing C-SVC F1 macro score class-based:: {}'.format(f1_score(te_tags, clf_te_tags_predicted, average=None)))\r\n"
      ],
      "execution_count": null,
      "outputs": []
    },
    {
      "cell_type": "markdown",
      "metadata": {
        "id": "7u_S9wUdTR_P"
      },
      "source": [
        "Model Training "
      ]
    },
    {
      "cell_type": "code",
      "metadata": {
        "id": "qb54rgrN86kA"
      },
      "source": [
        "cores = multiprocessing.cpu_count()\n",
        "for dm in [0,1]:\n",
        "  for vs in [5,10,15,30,50,75,100,125,150,175,200,250,350,500,650,750,1000]:\n",
        "    for epoch in [1,2,3,4,5,6,7,8,9,10,11,12]:\n",
        "      print('\\n','setting : ','dm : ', dm, 'vs : ', vs, 'num epochs : ', epoch)\n",
        "      model_dm = Doc2Vec(dm=dm, vector_size=vs, window=10, negative=5, min_count=1, workers=cores, alpha=0.0061, min_alpha = 0.0001)\n",
        "      model_dm.build_vocab([x for x in tqdm(train_tagged.values)])\n",
        "\n",
        "      for ep in range(epoch):\n",
        "        model_dm.train(utils.shuffle([x for x in tqdm(train_tagged.values)]), total_examples=len(train_tagged.values), epochs=1)\n",
        "        model_dm.alpha -= 0.0012\n",
        "        model_dm.min_alpha = model_dm.alpha\n",
        "      \n",
        "      train_embeddings = [] \n",
        "      for i in train_tagged:\n",
        "        embedding = model_dm.infer_vector(i.words, steps=20, alpha = 0.005)\n",
        "        train_embeddings.append(embedding)        \n",
        "\n",
        "      test_embeddings = [] \n",
        "      for i in test_tagged:\n",
        "        embedding = model_dm.infer_vector(i.words, steps=20, alpha = 0.005)\n",
        "        test_embeddings.append(embedding)     \n",
        "\n",
        "      LogReg_Results(train_embeddings,test_embeddings)\n",
        "      SVC_Results(train_embeddings,test_embeddings)\n",
        "      \n",
        "      for i in [te_tags_predicted,clf_te_tags_predicted]:\n",
        "        skplt.metrics.plot_confusion_matrix(te_tags, i, normalize=True,figsize=(15,15))\n",
        "        plt.show()"
      ],
      "execution_count": null,
      "outputs": []
    }
  ]
}